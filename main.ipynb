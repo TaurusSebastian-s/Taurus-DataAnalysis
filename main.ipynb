{
 "cells": [
  {
   "metadata": {},
   "cell_type": "markdown",
   "source": "# Analisis de Campos",
   "id": "bf0589d505e10efb"
  },
  {
   "metadata": {},
   "cell_type": "markdown",
   "source": "## Importaciones",
   "id": "3ebd83b1bc48064c"
  },
  {
   "metadata": {
    "ExecuteTime": {
     "end_time": "2024-11-18T03:34:38.213728Z",
     "start_time": "2024-11-18T03:34:37.253698Z"
    }
   },
   "cell_type": "code",
   "source": [
    "import os\n",
    "import pandas as pd"
   ],
   "id": "2c70d49d94b33739",
   "outputs": [],
   "execution_count": 1
  },
  {
   "metadata": {},
   "cell_type": "markdown",
   "source": "## Rutas",
   "id": "7161f39b66ada8ab"
  },
  {
   "metadata": {
    "ExecuteTime": {
     "end_time": "2024-11-18T03:34:38.241573Z",
     "start_time": "2024-11-18T03:34:38.235671Z"
    }
   },
   "cell_type": "code",
   "source": [
    "root = os.path.join(os.getcwd(), 'dumps')\n",
    "root"
   ],
   "id": "5c01cd040496d531",
   "outputs": [
    {
     "data": {
      "text/plain": [
       "'E:\\\\OneDrive\\\\OneDrive - INSTITUCION UNIVERSITARIA SALAZAR Y HERRERA\\\\DESKTOP-SLO2005\\\\JetBrains\\\\PycharmProjects\\\\TaurusTest\\\\Taurus-DataAnalysis\\\\dumps'"
      ]
     },
     "execution_count": 2,
     "metadata": {},
     "output_type": "execute_result"
    }
   ],
   "execution_count": 2
  },
  {
   "metadata": {},
   "cell_type": "markdown",
   "source": "## Archivos",
   "id": "9108a36343dbe910"
  },
  {
   "metadata": {
    "ExecuteTime": {
     "end_time": "2024-11-18T03:34:38.386454Z",
     "start_time": "2024-11-18T03:34:38.383363Z"
    }
   },
   "cell_type": "code",
   "source": [
    "files = os.listdir(root)\n",
    "files"
   ],
   "id": "d22afb76a409e760",
   "outputs": [
    {
     "data": {
      "text/plain": [
       "['tb_claim.csv',\n",
       " 'tb_claim_checklist_responses.csv',\n",
       " 'tb_claim_checklist_tasks.csv',\n",
       " 'tb_holdingcompanies.csv',\n",
       " 'tb_policies.csv',\n",
       " 'tb_poriskadditionalfloodinfos.csv',\n",
       " 'tb_users.csv']"
      ]
     },
     "execution_count": 3,
     "metadata": {},
     "output_type": "execute_result"
    }
   ],
   "execution_count": 3
  },
  {
   "metadata": {},
   "cell_type": "markdown",
   "source": "## Datos",
   "id": "91f49cf429cf4ac3"
  },
  {
   "metadata": {
    "ExecuteTime": {
     "end_time": "2024-11-18T03:34:38.548314Z",
     "start_time": "2024-11-18T03:34:38.544763Z"
    }
   },
   "cell_type": "code",
   "source": "data = {}",
   "id": "4d3f8d78e53f42b0",
   "outputs": [],
   "execution_count": 4
  },
  {
   "metadata": {
    "ExecuteTime": {
     "end_time": "2024-11-18T03:34:38.820841Z",
     "start_time": "2024-11-18T03:34:38.639699Z"
    }
   },
   "cell_type": "code",
   "source": [
    "for file in files:\n",
    "    file_path = os.path.join(root, file)\n",
    "    df = pd.read_csv(file_path, sep=',')\n",
    "    data.update({file: df})"
   ],
   "id": "ee1bfcc2b08fbd09",
   "outputs": [],
   "execution_count": 5
  },
  {
   "metadata": {
    "ExecuteTime": {
     "end_time": "2024-11-18T03:34:38.848611Z",
     "start_time": "2024-11-18T03:34:38.844904Z"
    }
   },
   "cell_type": "code",
   "source": [
    "for file, df in data.items():\n",
    "    print(file,\":\")\n",
    "    print(df.columns)"
   ],
   "id": "91debec996cc9143",
   "outputs": [
    {
     "name": "stdout",
     "output_type": "stream",
     "text": [
      "tb_claim.csv :\n",
      "Index(['ClaimId_PK', 'Claim_No', 'Risk_Id', 'n_TermMaster_FK',\n",
      "       'n_potransaction_FK', 'Policy_No_SimpleSolve', 'n_PolicyNoId_FK',\n",
      "       'n_PORiskMasterFK', 'Date_Of_Loss', 'Insured_Name',\n",
      "       'n_InsuredPersonInfoId_FK', 'Agency_Name', 'n_AgencyPersoninfoId_FK',\n",
      "       'n_AgencyAccount_FK', 'n_SubAgentPersoninfo_FK',\n",
      "       'Reported_By_PersonId_FK', 'InHouseCounsel_Person_FK',\n",
      "       'Reported_By_PersonId_FK_Old', 'PA_PersonId_FK',\n",
      "       'Reported_By_Deprecated', 'Reported_By_Relation_Code', 'ClaimTypeId_FK',\n",
      "       'Loss_Type_Code', 'Amount_Claimed', 'Letter_URL_Path', 'Remarks',\n",
      "       'Allocated_To_UserId_FK', 'Date_Allocated', 'Date_First_Visited',\n",
      "       'Service_Repre_UserId_FK', 'Approval_Status_Code',\n",
      "       'Claim_Approved_UserId_FK', 'Comment', 'Claim_Status_Code',\n",
      "       'Claim_SubStatus_Code', 'Date_Close', 'Total_Paid_Amount',\n",
      "       'Total_Paid_Amt_New', 'Attorney_Involved_YN', 'PA_Involved_YN',\n",
      "       'DFS_Complain_YN', 'Catastrophe_YN', 'Event_Name', 'Data_Source',\n",
      "       'n_PrimaryAttorneyPersonId_FK', 'd_PrimaryAttoryAssignDate',\n",
      "       'n_CoAttorneyPersonId_FK', 'd_CoAttoryAssignDate', 'n_Copytoclientfk',\n",
      "       's_CountyCode', 'Inserted_UserId_FK', 'Inserted_Date',\n",
      "       'Updated_UserId_FK', 'Updated_Date', 'metadata'],\n",
      "      dtype='object')\n",
      "tb_claim_checklist_responses.csv :\n",
      "Index(['id', 'checklist_task_id', 'claim_id', 'due_date', 'checklist_owner_id',\n",
      "       'is_task_completed', 'short_notes', 'system_assign', 'created_by',\n",
      "       'created_at', 'updated_by', 'updated_at'],\n",
      "      dtype='object')\n",
      "tb_claim_checklist_tasks.csv :\n",
      "Index(['id', 'task_title', 'description', 'sequence_number', 'is_active',\n",
      "       'created_by', 'created_at', 'updated_by', 'updated_at'],\n",
      "      dtype='object')\n",
      "tb_holdingcompanies.csv :\n",
      "Index(['n_HoldingCompanyId_PK', 's_HoldingCompanyCode', 's_HoldingCompanyName',\n",
      "       'n_Personinfo_FK', 'company_address', 'website_url', 'logo_url',\n",
      "       'phone_no', 'email', 'naic_number', 'metadata', 'payment_wesite_url',\n",
      "       'payment_mailling_address', 'payment_overnight_address', 'start_time',\n",
      "       'end_time', 'primary_color', 'secondary_color', 'service_provider_logo',\n",
      "       'n_CreatedUser', 'd_CreatedDate', 'n_UpdatedUser', 'd_UpdatedDate',\n",
      "       'n_EditVersion'],\n",
      "      dtype='object')\n",
      "tb_policies.csv :\n",
      "Index(['n_PolicyNoId_PK', 'Policy_No', 'Policy_No_Gfs', 'n_ProductId_FK',\n",
      "       'n_OwnerId_FK', 'n_IssueCompanyID_FK', 's_IssueCountryCode',\n",
      "       's_IssueStateCode', 'n_UnderwriterClient_FK', 's_QuoteNumber',\n",
      "       'd_InceptionDate', 'n_BillAccountMaster_FK', 's_PolicyStatusCode',\n",
      "       's_PolicyStatusReason', 'n_AgencyAccount_FK', 'n_SubAgentPersoninfo_FK',\n",
      "       'n_LatestTermMasterFK', 'n_cancelTranFK', 's_RenewalTypeCode',\n",
      "       'n_RenewalTypeUpdateBy', 'n_RenewalTypeUpdateDate',\n",
      "       's_NonRenewReasonCode', 'd_BookingDate', 'Policy_No_SimpleSolve',\n",
      "       'd_InceptionDate_SimpleSolve', 's_ExtendedCoverage', 's_VmmCoverage',\n",
      "       'n_CitizenTotalPremium', 'n_CitizenTotalPremiumRenewal',\n",
      "       'd_InsuredLivingDate', 'd_PolicyOrigNBDate', 's_Custom1',\n",
      "       'n_CreatedUser', 'd_CreatedDate', 'n_UpdatedUser', 'd_UpdatedDate',\n",
      "       'n_EditVersion', 'metadata'],\n",
      "      dtype='object')\n",
      "tb_poriskadditionalfloodinfos.csv :\n",
      "Index(['n_PORiskAdditionalFloodInfo_PK', 'n_PORiskMasterFK',\n",
      "       'n_POTermMasterFK', 'n_CreatedTransactionFK', 's_CommunityNumber',\n",
      "       's_CommunityName', 's_PanelNumber', 's_MapSuffix', 's_FloodZone',\n",
      "       's_FloodZoneGroup',\n",
      "       ...\n",
      "       'd_SubstantialImprovmentDate', 's_IsPreFirmSubsidyEligible',\n",
      "       's_RiskRating20', 's_IsAddInsureds', 's_TableNo', 'metadata',\n",
      "       'n_CreatedUser', 'd_CreatedDate', 'n_UpdatedUser', 'd_UpdatedDate'],\n",
      "      dtype='object', length=119)\n",
      "tb_users.csv :\n",
      "Index(['Admin_ID', 'Admin_ID_Old', 'Admin_ID_New', 'UserId_PK_CMS',\n",
      "       's_UserCode', 'n_PersonInfoId_FK', 'Username', 'UserName_Original',\n",
      "       'Password', 'PasswordHash', 'PasswordOld', 'Level', 'First_Name',\n",
      "       's_MiddleName', 'Last_Name', 's_ScreenName', 's_JobTitle',\n",
      "       's_DepartmentCode', 's_SoftwareLicenceNo', 's_UserStatus',\n",
      "       's_UserTypeCode_NOTUSE', 's_UserSubTypeCode_NOTUSE', 'Email',\n",
      "       's_PwdRecoverKey', 's_PwdKeyExp', 's_AuthKey_PolicyMap',\n",
      "       'd_EffectiveDate', 'd_ExpiryDate', 's_IsAdmin', 'Created_On',\n",
      "       'Closing_Date', 'Access_Modules', 'Closing_Date_Crystal', 's_ThemeName',\n",
      "       'gcm_regid', 'Last_UserID', 'Last_Timestamp', 'Login_FirstTime',\n",
      "       'n_CreatedUser', 'd_CreatedDate', 'n_UpdatedUser', 'd_UpdatedDate',\n",
      "       'n_EditVersion', 'avatar', 'active', 'activation_token', 'cognito_id',\n",
      "       'remember_token'],\n",
      "      dtype='object')\n"
     ]
    }
   ],
   "execution_count": 6
  },
  {
   "metadata": {
    "ExecuteTime": {
     "end_time": "2024-11-18T03:35:56.155456Z",
     "start_time": "2024-11-18T03:35:56.151737Z"
    }
   },
   "cell_type": "code",
   "source": "data.get(\"tb_policies.csv\")[\"s_PolicyStatusCode\"].unique()",
   "id": "1243d93c41e5f414",
   "outputs": [
    {
     "data": {
      "text/plain": [
       "array(['Prospect', 'Cancelled', 'Active'], dtype=object)"
      ]
     },
     "execution_count": 9,
     "metadata": {},
     "output_type": "execute_result"
    }
   ],
   "execution_count": 9
  },
  {
   "metadata": {
    "ExecuteTime": {
     "end_time": "2024-11-18T03:34:43.125186Z",
     "start_time": "2024-11-18T03:34:43.119607Z"
    }
   },
   "cell_type": "code",
   "source": "data.get(\"tb_policies.csv\").columns",
   "id": "673f10f891e308b1",
   "outputs": [
    {
     "data": {
      "text/plain": [
       "Index(['n_PolicyNoId_PK', 'Policy_No', 'Policy_No_Gfs', 'n_ProductId_FK',\n",
       "       'n_OwnerId_FK', 'n_IssueCompanyID_FK', 's_IssueCountryCode',\n",
       "       's_IssueStateCode', 'n_UnderwriterClient_FK', 's_QuoteNumber',\n",
       "       'd_InceptionDate', 'n_BillAccountMaster_FK', 's_PolicyStatusCode',\n",
       "       's_PolicyStatusReason', 'n_AgencyAccount_FK', 'n_SubAgentPersoninfo_FK',\n",
       "       'n_LatestTermMasterFK', 'n_cancelTranFK', 's_RenewalTypeCode',\n",
       "       'n_RenewalTypeUpdateBy', 'n_RenewalTypeUpdateDate',\n",
       "       's_NonRenewReasonCode', 'd_BookingDate', 'Policy_No_SimpleSolve',\n",
       "       'd_InceptionDate_SimpleSolve', 's_ExtendedCoverage', 's_VmmCoverage',\n",
       "       'n_CitizenTotalPremium', 'n_CitizenTotalPremiumRenewal',\n",
       "       'd_InsuredLivingDate', 'd_PolicyOrigNBDate', 's_Custom1',\n",
       "       'n_CreatedUser', 'd_CreatedDate', 'n_UpdatedUser', 'd_UpdatedDate',\n",
       "       'n_EditVersion', 'metadata'],\n",
       "      dtype='object')"
      ]
     },
     "execution_count": 7,
     "metadata": {},
     "output_type": "execute_result"
    }
   ],
   "execution_count": 7
  },
  {
   "metadata": {
    "ExecuteTime": {
     "end_time": "2024-11-17T21:51:31.569607Z",
     "start_time": "2024-11-17T15:40:28.717242Z"
    }
   },
   "cell_type": "code",
   "source": "data.get(\"tb_users.csv\").columns",
   "id": "ef7577266d827c98",
   "outputs": [
    {
     "data": {
      "text/plain": [
       "Index(['Admin_ID', 'Admin_ID_Old', 'Admin_ID_New', 'UserId_PK_CMS',\n",
       "       's_UserCode', 'n_PersonInfoId_FK', 'Username', 'UserName_Original',\n",
       "       'Password', 'PasswordHash', 'PasswordOld', 'Level', 'First_Name',\n",
       "       's_MiddleName', 'Last_Name', 's_ScreenName', 's_JobTitle',\n",
       "       's_DepartmentCode', 's_SoftwareLicenceNo', 's_UserStatus',\n",
       "       's_UserTypeCode_NOTUSE', 's_UserSubTypeCode_NOTUSE', 'Email',\n",
       "       's_PwdRecoverKey', 's_PwdKeyExp', 's_AuthKey_PolicyMap',\n",
       "       'd_EffectiveDate', 'd_ExpiryDate', 's_IsAdmin', 'Created_On',\n",
       "       'Closing_Date', 'Access_Modules', 'Closing_Date_Crystal', 's_ThemeName',\n",
       "       'gcm_regid', 'Last_UserID', 'Last_Timestamp', 'Login_FirstTime',\n",
       "       'n_CreatedUser', 'd_CreatedDate', 'n_UpdatedUser', 'd_UpdatedDate',\n",
       "       'n_EditVersion', 'avatar', 'active', 'activation_token', 'cognito_id',\n",
       "       'remember_token'],\n",
       "      dtype='object')"
      ]
     },
     "execution_count": 41,
     "metadata": {},
     "output_type": "execute_result"
    }
   ],
   "execution_count": 41
  },
  {
   "metadata": {},
   "cell_type": "markdown",
   "source": "## Conversion a base de datos\n",
   "id": "1161db9550ffb538"
  },
  {
   "metadata": {},
   "cell_type": "markdown",
   "source": "### Credenciales\n",
   "id": "36b6beb027b7dfd"
  },
  {
   "metadata": {},
   "cell_type": "code",
   "outputs": [],
   "execution_count": null,
   "source": [
    "load_dotenv()\n",
    "db_host = os.getenv(\"DB_HOST\")\n",
    "db_port = os.getenv(\"DB_PORT\")\n",
    "db_user = os.getenv(\"DB_USER\")\n",
    "db_password = os.getenv(\"DB_PASSWORD\")\n",
    "db_name = os.getenv(\"DB_NAME\")"
   ],
   "id": "ebffc32a6ed94e1c"
  },
  {
   "metadata": {},
   "cell_type": "markdown",
   "source": "### Conexion",
   "id": "f64d57a5382a0d5f"
  },
  {
   "metadata": {
    "ExecuteTime": {
     "end_time": "2024-11-17T21:51:31.596509600Z",
     "start_time": "2024-11-17T21:13:37.586985Z"
    }
   },
   "cell_type": "code",
   "source": [
    "DATABASE_URL = f\"mysql://{db_user}:{db_password}@{db_host}/{db_name}\"\n",
    "\n",
    "# Crear un engine de SQLAlchemy para el uso de 'to_sql'\n",
    "engine = create_engine(DATABASE_URL)\n",
    "\n",
    "# Crear una conexión a la base de datos usando 'databases'\n",
    "database = Database(DATABASE_URL)"
   ],
   "id": "75200923b043779a",
   "outputs": [
    {
     "ename": "NameError",
     "evalue": "name 'db_user' is not defined",
     "output_type": "error",
     "traceback": [
      "\u001B[1;31m---------------------------------------------------------------------------\u001B[0m",
      "\u001B[1;31mNameError\u001B[0m                                 Traceback (most recent call last)",
      "Cell \u001B[1;32mIn[4], line 1\u001B[0m\n\u001B[1;32m----> 1\u001B[0m DATABASE_URL \u001B[38;5;241m=\u001B[39m \u001B[38;5;124mf\u001B[39m\u001B[38;5;124m\"\u001B[39m\u001B[38;5;124mmysql://\u001B[39m\u001B[38;5;132;01m{\u001B[39;00mdb_user\u001B[38;5;132;01m}\u001B[39;00m\u001B[38;5;124m:\u001B[39m\u001B[38;5;132;01m{\u001B[39;00mdb_password\u001B[38;5;132;01m}\u001B[39;00m\u001B[38;5;124m@\u001B[39m\u001B[38;5;132;01m{\u001B[39;00mdb_host\u001B[38;5;132;01m}\u001B[39;00m\u001B[38;5;124m/\u001B[39m\u001B[38;5;132;01m{\u001B[39;00mdb_name\u001B[38;5;132;01m}\u001B[39;00m\u001B[38;5;124m\"\u001B[39m\n",
      "\u001B[1;31mNameError\u001B[0m: name 'db_user' is not defined"
     ]
    }
   ],
   "execution_count": 4
  },
  {
   "metadata": {},
   "cell_type": "code",
   "outputs": [],
   "execution_count": null,
   "source": [
    "for file, df in data.items():\n",
    "    \n",
    "    "
   ],
   "id": "c0396d3830966597"
  },
  {
   "metadata": {},
   "cell_type": "markdown",
   "source": "",
   "id": "2addaca365948709"
  },
  {
   "metadata": {},
   "cell_type": "code",
   "outputs": [],
   "execution_count": null,
   "source": "",
   "id": "fd4fc0ce17d07c08"
  }
 ],
 "metadata": {
  "kernelspec": {
   "display_name": "Python 3",
   "language": "python",
   "name": "python3"
  },
  "language_info": {
   "codemirror_mode": {
    "name": "ipython",
    "version": 2
   },
   "file_extension": ".py",
   "mimetype": "text/x-python",
   "name": "python",
   "nbconvert_exporter": "python",
   "pygments_lexer": "ipython2",
   "version": "2.7.6"
  }
 },
 "nbformat": 4,
 "nbformat_minor": 5
}
